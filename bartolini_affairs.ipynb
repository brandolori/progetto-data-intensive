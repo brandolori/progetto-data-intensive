{
  "nbformat": 4,
  "nbformat_minor": 0,
  "metadata": {
    "colab": {
      "name": "bartolini_affairs.ipynb",
      "provenance": [],
      "collapsed_sections": []
    },
    "interpreter": {
      "hash": "63fd5069d213b44bf678585dea6b12cceca9941eaf7f819626cde1f2670de90d"
    },
    "kernelspec": {
      "display_name": "Python 3.9.5 64-bit",
      "name": "python3"
    },
    "language_info": {
      "codemirror_mode": {
        "name": "ipython",
        "version": 3
      },
      "file_extension": ".py",
      "mimetype": "text/x-python",
      "name": "python",
      "nbconvert_exporter": "python",
      "pygments_lexer": "ipython3",
      "version": "3.9.5"
    }
  },
  "cells": [
    {
      "cell_type": "markdown",
      "metadata": {
        "id": "NJGItvL_n4hi"
      },
      "source": [
        "# Determinare se una donna impieghi parte del suo tempo in relazioni extramatimoniali\n",
        "\n",
        "**Programmazione di Applicazioni Data Intensive**  \n",
        "Laurea in Ingegneria e Scienze Informatiche  \n",
        "DISI - Università di Bologna, Cesena\n",
        "\n",
        "Lorenzo Bartolini"
      ]
    },
    {
      "cell_type": "markdown",
      "metadata": {
        "id": "N90iHhQmn4hl"
      },
      "source": [
        "## Parte 1 - Descrizione del problema e analisi esplorativa\n",
        "\n",
        "Si deve realizzare un modello che, utilizzando i dati raccolti da un sondaggio del 1974 della rivista \"Redbook\" da un campione di 6366 donne, sia in grado di prevedere se una donna impieghi o meno tempo in relazioni extramatrimoniali."
      ]
    },
    {
      "cell_type": "markdown",
      "metadata": {
        "id": "uR-B6p-dn4hp"
      },
      "source": [
        "Istruiamo Python a nascondere i warning relativi alla convergenza e alla deprecazione"
      ]
    },
    {
      "cell_type": "code",
      "metadata": {
        "id": "I6AIhJNrn4hq"
      },
      "source": [
        "import warnings\n",
        "from sklearn.exceptions import ConvergenceWarning\n",
        "warnings.filterwarnings(\"ignore\", category=ConvergenceWarning)\n",
        "warnings.filterwarnings(\"ignore\", category=FutureWarning)"
      ],
      "execution_count": 4,
      "outputs": []
    },
    {
      "cell_type": "markdown",
      "metadata": {
        "id": "czrffLyEn4ho"
      },
      "source": [
        "Si importano le librerie necessarie per organizzare le strutture dati,  disegnare i grafici e addestrare i modelli"
      ]
    },
    {
      "cell_type": "code",
      "metadata": {
        "id": "I7EKveIon4hs"
      },
      "source": [
        "%matplotlib inline\n",
        "import os.path\n",
        "import numpy as np\n",
        "import pandas as pd\n",
        "import matplotlib.pyplot as plt\n",
        "import seaborn as sb\n",
        "from scipy import stats\n",
        "\n",
        "from sklearn.model_selection import GridSearchCV, StratifiedKFold, train_test_split\n",
        "from sklearn.tree import DecisionTreeClassifier, plot_tree\n",
        "from sklearn.metrics import mean_squared_error\n",
        "from sklearn.linear_model import Perceptron, LogisticRegression\n",
        "from sklearn.preprocessing import PolynomialFeatures, StandardScaler, OneHotEncoder\n",
        "from sklearn.neural_network import MLPClassifier\n",
        "from sklearn.svm import SVC\n",
        "from sklearn.pipeline import  Pipeline\n",
        "from sklearn.compose import ColumnTransformer\n",
        "\n",
        "from imblearn.under_sampling import RandomUnderSampler"
      ],
      "execution_count": 5,
      "outputs": []
    },
    {
      "cell_type": "code",
      "metadata": {
        "id": "MDDuvV6jn4ht"
      },
      "source": [
        "with open(\"Affairs.csv\") as f:\n",
        "    data = pd.read_csv(f)"
      ],
      "execution_count": 6,
      "outputs": []
    },
    {
      "cell_type": "code",
      "metadata": {
        "colab": {
          "base_uri": "https://localhost:8080/",
          "height": 206
        },
        "id": "oFUvjyr_n4hv",
        "outputId": "157282d6-200f-40ad-be11-ad24aa7b7b22"
      },
      "source": [
        "data.head()"
      ],
      "execution_count": 7,
      "outputs": [
        {
          "output_type": "execute_result",
          "data": {
            "text/html": [
              "<div>\n",
              "<style scoped>\n",
              "    .dataframe tbody tr th:only-of-type {\n",
              "        vertical-align: middle;\n",
              "    }\n",
              "\n",
              "    .dataframe tbody tr th {\n",
              "        vertical-align: top;\n",
              "    }\n",
              "\n",
              "    .dataframe thead th {\n",
              "        text-align: right;\n",
              "    }\n",
              "</style>\n",
              "<table border=\"1\" class=\"dataframe\">\n",
              "  <thead>\n",
              "    <tr style=\"text-align: right;\">\n",
              "      <th></th>\n",
              "      <th>Unnamed: 0</th>\n",
              "      <th>rate_marriage</th>\n",
              "      <th>age</th>\n",
              "      <th>yrs_married</th>\n",
              "      <th>children</th>\n",
              "      <th>religious</th>\n",
              "      <th>educ</th>\n",
              "      <th>occupation</th>\n",
              "      <th>occupation_husb</th>\n",
              "      <th>affairs</th>\n",
              "    </tr>\n",
              "  </thead>\n",
              "  <tbody>\n",
              "    <tr>\n",
              "      <th>0</th>\n",
              "      <td>0</td>\n",
              "      <td>3.0</td>\n",
              "      <td>32.0</td>\n",
              "      <td>9.0</td>\n",
              "      <td>3.0</td>\n",
              "      <td>3.0</td>\n",
              "      <td>17.0</td>\n",
              "      <td>2.0</td>\n",
              "      <td>5.0</td>\n",
              "      <td>0.111111</td>\n",
              "    </tr>\n",
              "    <tr>\n",
              "      <th>1</th>\n",
              "      <td>1</td>\n",
              "      <td>3.0</td>\n",
              "      <td>27.0</td>\n",
              "      <td>13.0</td>\n",
              "      <td>3.0</td>\n",
              "      <td>1.0</td>\n",
              "      <td>14.0</td>\n",
              "      <td>3.0</td>\n",
              "      <td>4.0</td>\n",
              "      <td>3.230769</td>\n",
              "    </tr>\n",
              "    <tr>\n",
              "      <th>2</th>\n",
              "      <td>2</td>\n",
              "      <td>4.0</td>\n",
              "      <td>22.0</td>\n",
              "      <td>2.5</td>\n",
              "      <td>0.0</td>\n",
              "      <td>1.0</td>\n",
              "      <td>16.0</td>\n",
              "      <td>3.0</td>\n",
              "      <td>5.0</td>\n",
              "      <td>1.400000</td>\n",
              "    </tr>\n",
              "    <tr>\n",
              "      <th>3</th>\n",
              "      <td>3</td>\n",
              "      <td>4.0</td>\n",
              "      <td>37.0</td>\n",
              "      <td>16.5</td>\n",
              "      <td>4.0</td>\n",
              "      <td>3.0</td>\n",
              "      <td>16.0</td>\n",
              "      <td>5.0</td>\n",
              "      <td>5.0</td>\n",
              "      <td>0.727273</td>\n",
              "    </tr>\n",
              "    <tr>\n",
              "      <th>4</th>\n",
              "      <td>4</td>\n",
              "      <td>5.0</td>\n",
              "      <td>27.0</td>\n",
              "      <td>9.0</td>\n",
              "      <td>1.0</td>\n",
              "      <td>1.0</td>\n",
              "      <td>14.0</td>\n",
              "      <td>3.0</td>\n",
              "      <td>4.0</td>\n",
              "      <td>4.666666</td>\n",
              "    </tr>\n",
              "  </tbody>\n",
              "</table>\n",
              "</div>"
            ],
            "text/plain": [
              "   Unnamed: 0  rate_marriage   age  ...  occupation  occupation_husb   affairs\n",
              "0           0            3.0  32.0  ...         2.0              5.0  0.111111\n",
              "1           1            3.0  27.0  ...         3.0              4.0  3.230769\n",
              "2           2            4.0  22.0  ...         3.0              5.0  1.400000\n",
              "3           3            4.0  37.0  ...         5.0              5.0  0.727273\n",
              "4           4            5.0  27.0  ...         3.0              4.0  4.666666\n",
              "\n",
              "[5 rows x 10 columns]"
            ]
          },
          "metadata": {
            "tags": []
          },
          "execution_count": 7
        }
      ]
    },
    {
      "cell_type": "markdown",
      "metadata": {
        "id": "hDa5sAffn4hx"
      },
      "source": [
        "Rimuoviamo la colonna ridondante \"Unnamed: 0\""
      ]
    },
    {
      "cell_type": "code",
      "metadata": {
        "id": "PeF1gHiGn4hy"
      },
      "source": [
        "data.drop(columns=\"Unnamed: 0\", inplace=True)"
      ],
      "execution_count": 8,
      "outputs": []
    },
    {
      "cell_type": "markdown",
      "metadata": {
        "id": "Bu4LkZQfn4hy"
      },
      "source": [
        "### Significato delle feature\n",
        "\n",
        "Riportiamo le informazioni sul dataset dalla [fonte](https://www.kaggle.com/akashadesai/extramarital-affairs-dataset/tasks?taskId=1660)\n",
        "\n",
        "Il dataset contiene 6366 istanze di 9 variabili:\n",
        "\n",
        "- `rate_marriage`: valutazione da parte della donna del proprio matrimonio (1 = molto negativo, 5 = molto positivo)\n",
        "- `age`: età della donna\n",
        "- `yrs_married`: numero di anni di matrimonio\n",
        "- `children`: numero di figli\n",
        "- `religious`: valutazione da parte della donna della propria religiosità (1 = non religiosa, 4 = molto religiosa)\n",
        "- `educ`: livello d'educazione della donna (9 = grade school, 12 = high school, 14 = some college, 16 = college graduate, 17 = some graduate school, 20 = advanced degree)\n",
        "- `occupation`: lavoro della donna (1 = student, 2 = farming/semi-skilled/unskilled, 3 = \"white collar\", 4 = teacher/nurse/writer/technician/skilled, 5 = managerial/business, 6 = professional with advanced degree)\n",
        "- `occupation_husb`: lavoro del marito (stessi significati che sopra)\n",
        "- `affairs`: tempo impiegato in relazioni extramatrimoniali"
      ]
    },
    {
      "cell_type": "markdown",
      "metadata": {
        "id": "O1yH9dkMn4h0"
      },
      "source": [
        "Alcune variabili, nonostante la loro forma numerica, sono più facilmente interpretabili come variabili categoriche.\n",
        "\n",
        "Inseriamo i nomi di queste colonne in un array da utilizzare in seguito."
      ]
    },
    {
      "cell_type": "code",
      "metadata": {
        "id": "2A7ht9g7n4h0"
      },
      "source": [
        "categorical_vars = [\"occupation\", \"occupation_husb\", \"educ\"]"
      ],
      "execution_count": 9,
      "outputs": []
    },
    {
      "cell_type": "markdown",
      "metadata": {
        "id": "UjHvnKEcn4h1"
      },
      "source": [
        "Andiamo ad analizzare le varie feature nel loro insieme, tramite il metodo `describe`"
      ]
    },
    {
      "cell_type": "code",
      "metadata": {
        "colab": {
          "base_uri": "https://localhost:8080/",
          "height": 300
        },
        "id": "7_LUHVDzn4h2",
        "outputId": "e09f3ae7-8f43-4a52-ac0b-97dab4f00499"
      },
      "source": [
        "data.describe()"
      ],
      "execution_count": 10,
      "outputs": [
        {
          "output_type": "execute_result",
          "data": {
            "text/html": [
              "<div>\n",
              "<style scoped>\n",
              "    .dataframe tbody tr th:only-of-type {\n",
              "        vertical-align: middle;\n",
              "    }\n",
              "\n",
              "    .dataframe tbody tr th {\n",
              "        vertical-align: top;\n",
              "    }\n",
              "\n",
              "    .dataframe thead th {\n",
              "        text-align: right;\n",
              "    }\n",
              "</style>\n",
              "<table border=\"1\" class=\"dataframe\">\n",
              "  <thead>\n",
              "    <tr style=\"text-align: right;\">\n",
              "      <th></th>\n",
              "      <th>rate_marriage</th>\n",
              "      <th>age</th>\n",
              "      <th>yrs_married</th>\n",
              "      <th>children</th>\n",
              "      <th>religious</th>\n",
              "      <th>educ</th>\n",
              "      <th>occupation</th>\n",
              "      <th>occupation_husb</th>\n",
              "      <th>affairs</th>\n",
              "    </tr>\n",
              "  </thead>\n",
              "  <tbody>\n",
              "    <tr>\n",
              "      <th>count</th>\n",
              "      <td>6366.000000</td>\n",
              "      <td>6366.000000</td>\n",
              "      <td>6366.000000</td>\n",
              "      <td>6366.000000</td>\n",
              "      <td>6366.000000</td>\n",
              "      <td>6366.000000</td>\n",
              "      <td>6366.000000</td>\n",
              "      <td>6366.000000</td>\n",
              "      <td>6366.000000</td>\n",
              "    </tr>\n",
              "    <tr>\n",
              "      <th>mean</th>\n",
              "      <td>4.109645</td>\n",
              "      <td>29.082862</td>\n",
              "      <td>9.009425</td>\n",
              "      <td>1.396874</td>\n",
              "      <td>2.426170</td>\n",
              "      <td>14.209865</td>\n",
              "      <td>3.424128</td>\n",
              "      <td>3.850141</td>\n",
              "      <td>0.705374</td>\n",
              "    </tr>\n",
              "    <tr>\n",
              "      <th>std</th>\n",
              "      <td>0.961430</td>\n",
              "      <td>6.847882</td>\n",
              "      <td>7.280120</td>\n",
              "      <td>1.433471</td>\n",
              "      <td>0.878369</td>\n",
              "      <td>2.178003</td>\n",
              "      <td>0.942399</td>\n",
              "      <td>1.346435</td>\n",
              "      <td>2.203374</td>\n",
              "    </tr>\n",
              "    <tr>\n",
              "      <th>min</th>\n",
              "      <td>1.000000</td>\n",
              "      <td>17.500000</td>\n",
              "      <td>0.500000</td>\n",
              "      <td>0.000000</td>\n",
              "      <td>1.000000</td>\n",
              "      <td>9.000000</td>\n",
              "      <td>1.000000</td>\n",
              "      <td>1.000000</td>\n",
              "      <td>0.000000</td>\n",
              "    </tr>\n",
              "    <tr>\n",
              "      <th>25%</th>\n",
              "      <td>4.000000</td>\n",
              "      <td>22.000000</td>\n",
              "      <td>2.500000</td>\n",
              "      <td>0.000000</td>\n",
              "      <td>2.000000</td>\n",
              "      <td>12.000000</td>\n",
              "      <td>3.000000</td>\n",
              "      <td>3.000000</td>\n",
              "      <td>0.000000</td>\n",
              "    </tr>\n",
              "    <tr>\n",
              "      <th>50%</th>\n",
              "      <td>4.000000</td>\n",
              "      <td>27.000000</td>\n",
              "      <td>6.000000</td>\n",
              "      <td>1.000000</td>\n",
              "      <td>2.000000</td>\n",
              "      <td>14.000000</td>\n",
              "      <td>3.000000</td>\n",
              "      <td>4.000000</td>\n",
              "      <td>0.000000</td>\n",
              "    </tr>\n",
              "    <tr>\n",
              "      <th>75%</th>\n",
              "      <td>5.000000</td>\n",
              "      <td>32.000000</td>\n",
              "      <td>16.500000</td>\n",
              "      <td>2.000000</td>\n",
              "      <td>3.000000</td>\n",
              "      <td>16.000000</td>\n",
              "      <td>4.000000</td>\n",
              "      <td>5.000000</td>\n",
              "      <td>0.484848</td>\n",
              "    </tr>\n",
              "    <tr>\n",
              "      <th>max</th>\n",
              "      <td>5.000000</td>\n",
              "      <td>42.000000</td>\n",
              "      <td>23.000000</td>\n",
              "      <td>5.500000</td>\n",
              "      <td>4.000000</td>\n",
              "      <td>20.000000</td>\n",
              "      <td>6.000000</td>\n",
              "      <td>6.000000</td>\n",
              "      <td>57.599991</td>\n",
              "    </tr>\n",
              "  </tbody>\n",
              "</table>\n",
              "</div>"
            ],
            "text/plain": [
              "       rate_marriage          age  ...  occupation_husb      affairs\n",
              "count    6366.000000  6366.000000  ...      6366.000000  6366.000000\n",
              "mean        4.109645    29.082862  ...         3.850141     0.705374\n",
              "std         0.961430     6.847882  ...         1.346435     2.203374\n",
              "min         1.000000    17.500000  ...         1.000000     0.000000\n",
              "25%         4.000000    22.000000  ...         3.000000     0.000000\n",
              "50%         4.000000    27.000000  ...         4.000000     0.000000\n",
              "75%         5.000000    32.000000  ...         5.000000     0.484848\n",
              "max         5.000000    42.000000  ...         6.000000    57.599991\n",
              "\n",
              "[8 rows x 9 columns]"
            ]
          },
          "metadata": {
            "tags": []
          },
          "execution_count": 10
        }
      ]
    },
    {
      "cell_type": "markdown",
      "metadata": {
        "id": "qB4TnABJn4h2"
      },
      "source": [
        "Osservazioni:\n",
        "- In media le donne valutano molto positivamente il proprio matrimonio\n",
        "- L'età media delle donne che hanno partecipato al sondaggio era sui 30 anni, e non ci sono donne con età superiore al 42\n",
        "- Nel sondaggio sono inclusi matrimoni di durata molto diversa, avendo `years_married` media e deviazione standard molto simili\n",
        "- In media ogni donna ha almeno un figlio dal matrimonio corrente\n",
        "- Le donne incluse nel sondaggio non si reputano eccessivamente religiose\n",
        "- Le variabili `occupation` possono essere interpretate come \"avanzamento di carriera\". In tal caso si può notare come in media il marito abbia una carriera più avanzata, con però una deviazione standard più elevata."
      ]
    },
    {
      "cell_type": "markdown",
      "metadata": {
        "id": "InJOOfLan4h4"
      },
      "source": [
        "### Esplorazione di feature e correlazioni\n",
        "\n",
        "Verifichiamo per prima cosa quante donne dichiarino di impiegare del tempo in relazioni extramatrimoniali"
      ]
    },
    {
      "cell_type": "code",
      "metadata": {
        "colab": {
          "base_uri": "https://localhost:8080/"
        },
        "id": "LFWQ-7Bbn4h4",
        "outputId": "13ddeb00-38cd-4b3e-e7d4-d06686990f24"
      },
      "source": [
        "has_had_affairs = data[\"affairs\"]>0\n",
        "\n",
        "has_had_affairs.value_counts(), has_had_affairs.mean()"
      ],
      "execution_count": 11,
      "outputs": [
        {
          "output_type": "execute_result",
          "data": {
            "text/plain": [
              "(False    4313\n",
              " True     2053\n",
              " Name: affairs, dtype: int64, 0.3224945020420987)"
            ]
          },
          "metadata": {
            "tags": []
          },
          "execution_count": 11
        }
      ]
    },
    {
      "cell_type": "markdown",
      "metadata": {
        "id": "ETJs-ZXNn4h6"
      },
      "source": [
        "Possiamo notare che poco meno di un terzo delle donne dichiarino di utilizzare del tempo in relazioni extramatrimoniali. Sarà necessario prendere accorgimenti per limitare l'impatto di questo sbilanciamento fra le classi.\n",
        "Disegnamone il grafico"
      ]
    },
    {
      "cell_type": "code",
      "metadata": {
        "colab": {
          "base_uri": "https://localhost:8080/",
          "height": 248
        },
        "id": "5rFLFZUxn4h6",
        "outputId": "fb82b8bb-c2e2-48b3-bcf7-d998649e07c3"
      },
      "source": [
        "has_had_affairs.value_counts().plot.pie();"
      ],
      "execution_count": 12,
      "outputs": [
        {
          "output_type": "display_data",
          "data": {
            "image/png": "[encoded data removed]",
            "text/plain": [
              "<Figure size 432x288 with 1 Axes>"
            ]
          },
          "metadata": {
            "tags": []
          }
        }
      ]
    },
    {
      "cell_type": "markdown",
      "metadata": {
        "id": "2WbQjyHhsEqb"
      },
      "source": [
        "Controlliamo la possibile presenza di errori nei dati:"
      ]
    },
    {
      "cell_type": "code",
      "metadata": {
        "colab": {
          "base_uri": "https://localhost:8080/"
        },
        "id": "VLI1xmjRrfq_",
        "outputId": "cd30e322-c7b7-4e2e-d5a5-93d3fbdc72f8"
      },
      "source": [
        "(data[\"age\"] - data[\"yrs_married\"]).describe()"
      ],
      "execution_count": 13,
      "outputs": [
        {
          "output_type": "execute_result",
          "data": {
            "text/plain": [
              "count    6366.000000\n",
              "mean       20.073437\n",
              "std         3.278352\n",
              "min         9.000000\n",
              "25%        19.000000\n",
              "50%        19.500000\n",
              "75%        21.000000\n",
              "max        39.500000\n",
              "dtype: float64"
            ]
          },
          "metadata": {
            "tags": []
          },
          "execution_count": 13
        }
      ]
    },
    {
      "cell_type": "markdown",
      "metadata": {
        "id": "sTZy7pNBn4h7"
      },
      "source": [
        "Valutiamo le possibili correlazioni fra i dati:"
      ]
    },
    {
      "cell_type": "code",
      "metadata": {
        "colab": {
          "base_uri": "https://localhost:8080/",
          "height": 343
        },
        "id": "RCMAkn5io-jv",
        "outputId": "69621255-4e09-469e-e4c9-aed410911ce2"
      },
      "source": [
        "sb.heatmap(data.corr(method='pearson'), annot=True);"
      ],
      "execution_count": 14,
      "outputs": [
        {
          "output_type": "display_data",
          "data": {
            "image/png": "[encoded data removed]",
            "text/plain": [
              "<Figure size 432x288 with 2 Axes>"
            ]
          },
          "metadata": {
            "tags": [],
            "needs_background": "light"
          }
        }
      ]
    },
    {
      "cell_type": "code",
      "metadata": {
        "colab": {
          "base_uri": "https://localhost:8080/",
          "height": 592
        },
        "id": "dch6LT_kn4h7",
        "outputId": "2110ce56-17fe-4756-a536-41141f785e6e"
      },
      "source": [
        "fig, axes = plt.subplots(nrows=2, ncols=2, figsize=(20, 10))\n",
        "\n",
        "axes[0,0].scatter(data[\"yrs_married\"],data[\"age\"],alpha=.15)\n",
        "axes[0,1].scatter(data[\"age\"],data[\"children\"],alpha=.15);\n",
        "axes[1,0].scatter(data[\"yrs_married\"],data[\"children\"],alpha=.15);"
      ],
      "execution_count": 15,
      "outputs": [
        {
          "output_type": "display_data",
          "data": {
            "image/png": "[encoded data removed]",
            "text/plain": [
              "<Figure size 1440x720 with 4 Axes>"
            ]
          },
          "metadata": {
            "tags": [],
            "needs_background": "light"
          }
        }
      ]
    },
    {
      "cell_type": "code",
      "metadata": {
        "colab": {
          "base_uri": "https://localhost:8080/",
          "height": 283
        },
        "id": "xzEm9FsLn4h8",
        "outputId": "e5de8d02-fd61-468e-db42-28fa3d3cee47"
      },
      "source": [
        "data.plot.scatter(\"yrs_married\", \"affairs\", alpha=.15);"
      ],
      "execution_count": 16,
      "outputs": [
        {
          "output_type": "display_data",
          "data": {
            "image/png": "[encoded data removed]",
            "text/plain": [
              "<Figure size 432x288 with 1 Axes>"
            ]
          },
          "metadata": {
            "tags": [],
            "needs_background": "light"
          }
        }
      ]
    },
    {
      "cell_type": "code",
      "metadata": {
        "colab": {
          "base_uri": "https://localhost:8080/",
          "height": 286
        },
        "id": "RLimft1en4h9",
        "outputId": "5acf08a5-6d36-4444-dbab-6a0582dabaf4"
      },
      "source": [
        "data.groupby(\"rate_marriage\").mean()[\"affairs\"].plot.bar();"
      ],
      "execution_count": 17,
      "outputs": [
        {
          "output_type": "display_data",
          "data": {
            "image/png": "[encoded data removed]",
            "text/plain": [
              "<Figure size 432x288 with 1 Axes>"
            ]
          },
          "metadata": {
            "tags": [],
            "needs_background": "light"
          }
        }
      ]
    },
    {
      "cell_type": "code",
      "metadata": {
        "colab": {
          "base_uri": "https://localhost:8080/",
          "height": 285
        },
        "id": "tYNrLKmyn4h9",
        "outputId": "17a084a1-60cf-49ac-974b-bb92534b68df"
      },
      "source": [
        "data.groupby(\"religious\").mean()[\"affairs\"].plot.bar();"
      ],
      "execution_count": 18,
      "outputs": [
        {
          "output_type": "display_data",
          "data": {
            "image/png": "[encoded data removed]",
            "text/plain": [
              "<Figure size 432x288 with 1 Axes>"
            ]
          },
          "metadata": {
            "tags": [],
            "needs_background": "light"
          }
        }
      ]
    },
    {
      "cell_type": "markdown",
      "metadata": {
        "id": "2QXR5d4xn4h-"
      },
      "source": [
        "Osservazioni:\n",
        "- Come aspettato, età, durata del matrimonio e numero di figli tendono a crescere insieme\n",
        "- Pù il matrimonio è longevo, meno è probabile che la donna impieghi una quantità considerevole del suo tempo in relazioni extramatrimoniali\n",
        "- Più il matrimonio è valutato negativamente, più è probabile che la donna impieghi una quantità considerevole del suo tempo in relazioni extramatrimoniali\n",
        "- Più la donna è religiosa, meno è probabile che la donna impieghi una quantità considerevole del suo tempo in relazioni extramatrimoniali"
      ]
    },
    {
      "cell_type": "markdown",
      "metadata": {
        "id": "tZexff8qn4h-"
      },
      "source": [
        "## Parte 2 - Feature preprocessing"
      ]
    },
    {
      "cell_type": "markdown",
      "metadata": {
        "id": "D7ke511-n4h-"
      },
      "source": [
        "Trasformiamo i dati categorici in stringhe per rendere più chiara poi l'interpretazione dei risultati, e istruiamo Pandas a trattarli come dati categorici per diminuire l'uso di risorse"
      ]
    },
    {
      "cell_type": "code",
      "metadata": {
        "id": "SBLTYIPPn4h-"
      },
      "source": [
        "def make_categorical(data, col, dict):\n",
        "    data[col] = data[col].map(lambda x: dict[x])\n",
        "    data[col] = data[col].astype(\"category\")"
      ],
      "execution_count": 19,
      "outputs": []
    },
    {
      "cell_type": "code",
      "metadata": {
        "id": "JfhfmLH1n4iA"
      },
      "source": [
        "occ_dict = {\n",
        "    1:\"student\",\n",
        "    2:\"unskilled\",\n",
        "    3:\"white collar\",\n",
        "    4:\"skilled\",\n",
        "    5:\"business\",\n",
        "    6:\"advanced\"\n",
        "}\n",
        "\n",
        "make_categorical(data, \"occupation\", occ_dict)\n",
        "make_categorical(data, \"occupation_husb\", occ_dict)"
      ],
      "execution_count": 20,
      "outputs": []
    },
    {
      "cell_type": "code",
      "metadata": {
        "id": "DFQb7ePwn4iA"
      },
      "source": [
        "educ_dict = {\n",
        "    9:\"grade school\",\n",
        "    12:\"high school\",\n",
        "    14:\"college\",\n",
        "    16:\"college grad\",\n",
        "    17:\"grad school\",\n",
        "    20:\"advanced\"\n",
        "}\n",
        "\n",
        "make_categorical(data,\"educ\",educ_dict)"
      ],
      "execution_count": 21,
      "outputs": []
    },
    {
      "cell_type": "code",
      "metadata": {
        "colab": {
          "base_uri": "https://localhost:8080/",
          "height": 206
        },
        "id": "JfLpMLJCn4iA",
        "outputId": "7a867788-bdc1-412a-e7e9-f356b521281d"
      },
      "source": [
        "data.head()"
      ],
      "execution_count": 22,
      "outputs": [
        {
          "output_type": "execute_result",
          "data": {
            "text/html": [
              "<div>\n",
              "<style scoped>\n",
              "    .dataframe tbody tr th:only-of-type {\n",
              "        vertical-align: middle;\n",
              "    }\n",
              "\n",
              "    .dataframe tbody tr th {\n",
              "        vertical-align: top;\n",
              "    }\n",
              "\n",
              "    .dataframe thead th {\n",
              "        text-align: right;\n",
              "    }\n",
              "</style>\n",
              "<table border=\"1\" class=\"dataframe\">\n",
              "  <thead>\n",
              "    <tr style=\"text-align: right;\">\n",
              "      <th></th>\n",
              "      <th>rate_marriage</th>\n",
              "      <th>age</th>\n",
              "      <th>yrs_married</th>\n",
              "      <th>children</th>\n",
              "      <th>religious</th>\n",
              "      <th>educ</th>\n",
              "      <th>occupation</th>\n",
              "      <th>occupation_husb</th>\n",
              "      <th>affairs</th>\n",
              "    </tr>\n",
              "  </thead>\n",
              "  <tbody>\n",
              "    <tr>\n",
              "      <th>0</th>\n",
              "      <td>3.0</td>\n",
              "      <td>32.0</td>\n",
              "      <td>9.0</td>\n",
              "      <td>3.0</td>\n",
              "      <td>3.0</td>\n",
              "      <td>grad school</td>\n",
              "      <td>unskilled</td>\n",
              "      <td>business</td>\n",
              "      <td>0.111111</td>\n",
              "    </tr>\n",
              "    <tr>\n",
              "      <th>1</th>\n",
              "      <td>3.0</td>\n",
              "      <td>27.0</td>\n",
              "      <td>13.0</td>\n",
              "      <td>3.0</td>\n",
              "      <td>1.0</td>\n",
              "      <td>college</td>\n",
              "      <td>white collar</td>\n",
              "      <td>skilled</td>\n",
              "      <td>3.230769</td>\n",
              "    </tr>\n",
              "    <tr>\n",
              "      <th>2</th>\n",
              "      <td>4.0</td>\n",
              "      <td>22.0</td>\n",
              "      <td>2.5</td>\n",
              "      <td>0.0</td>\n",
              "      <td>1.0</td>\n",
              "      <td>college grad</td>\n",
              "      <td>white collar</td>\n",
              "      <td>business</td>\n",
              "      <td>1.400000</td>\n",
              "    </tr>\n",
              "    <tr>\n",
              "      <th>3</th>\n",
              "      <td>4.0</td>\n",
              "      <td>37.0</td>\n",
              "      <td>16.5</td>\n",
              "      <td>4.0</td>\n",
              "      <td>3.0</td>\n",
              "      <td>college grad</td>\n",
              "      <td>business</td>\n",
              "      <td>business</td>\n",
              "      <td>0.727273</td>\n",
              "    </tr>\n",
              "    <tr>\n",
              "      <th>4</th>\n",
              "      <td>5.0</td>\n",
              "      <td>27.0</td>\n",
              "      <td>9.0</td>\n",
              "      <td>1.0</td>\n",
              "      <td>1.0</td>\n",
              "      <td>college</td>\n",
              "      <td>white collar</td>\n",
              "      <td>skilled</td>\n",
              "      <td>4.666666</td>\n",
              "    </tr>\n",
              "  </tbody>\n",
              "</table>\n",
              "</div>"
            ],
            "text/plain": [
              "   rate_marriage   age  yrs_married  ...    occupation  occupation_husb   affairs\n",
              "0            3.0  32.0          9.0  ...     unskilled         business  0.111111\n",
              "1            3.0  27.0         13.0  ...  white collar          skilled  3.230769\n",
              "2            4.0  22.0          2.5  ...  white collar         business  1.400000\n",
              "3            4.0  37.0         16.5  ...      business         business  0.727273\n",
              "4            5.0  27.0          9.0  ...  white collar          skilled  4.666666\n",
              "\n",
              "[5 rows x 9 columns]"
            ]
          },
          "metadata": {
            "tags": []
          },
          "execution_count": 22
        }
      ]
    },
    {
      "cell_type": "code",
      "metadata": {
        "colab": {
          "base_uri": "https://localhost:8080/"
        },
        "id": "RnnXwHtQn4iB",
        "outputId": "946f724c-99b5-46e1-c267-d75e7b9196da"
      },
      "source": [
        "data.info(memory_usage=\"deep\")"
      ],
      "execution_count": 23,
      "outputs": [
        {
          "output_type": "stream",
          "text": [
            "<class 'pandas.core.frame.DataFrame'>\n",
            "RangeIndex: 6366 entries, 0 to 6365\n",
            "Data columns (total 9 columns):\n",
            " #   Column           Non-Null Count  Dtype   \n",
            "---  ------           --------------  -----   \n",
            " 0   rate_marriage    6366 non-null   float64 \n",
            " 1   age              6366 non-null   float64 \n",
            " 2   yrs_married      6366 non-null   float64 \n",
            " 3   children         6366 non-null   float64 \n",
            " 4   religious        6366 non-null   float64 \n",
            " 5   educ             6366 non-null   category\n",
            " 6   occupation       6366 non-null   category\n",
            " 7   occupation_husb  6366 non-null   category\n",
            " 8   affairs          6366 non-null   float64 \n",
            "dtypes: category(3), float64(6)\n",
            "memory usage: 318.8 KB\n"
          ],
          "name": "stdout"
        }
      ]
    },
    {
      "cell_type": "markdown",
      "metadata": {
        "id": "mICGXFwbn4iC"
      },
      "source": [
        "Dividiamo la variabile da predirre dalle altri variabili del dataset.\n",
        "La variabile da predirre viene trasformata in una variabile booleana in base ad una semplice regola: se il tempo speso in relazioni extramatrimoniali è maggiore di zero."
      ]
    },
    {
      "cell_type": "code",
      "metadata": {
        "id": "8nOxQowFn4iC"
      },
      "source": [
        "X = data.drop(columns=\"affairs\")\n",
        "y = data[\"affairs\"] > 0"
      ],
      "execution_count": 24,
      "outputs": []
    },
    {
      "cell_type": "code",
      "metadata": {
        "colab": {
          "base_uri": "https://localhost:8080/"
        },
        "id": "MkfYrHTFn4iC",
        "outputId": "b1e5ca96-262c-4c7c-ca83-bd2410cd92c2"
      },
      "source": [
        "y.value_counts(), y.mean()"
      ],
      "execution_count": 25,
      "outputs": [
        {
          "output_type": "execute_result",
          "data": {
            "text/plain": [
              "(False    4313\n",
              " True     2053\n",
              " Name: affairs, dtype: int64, 0.3224945020420987)"
            ]
          },
          "metadata": {
            "tags": []
          },
          "execution_count": 25
        }
      ]
    },
    {
      "cell_type": "markdown",
      "metadata": {
        "id": "1IAQ9xh7n4iC"
      },
      "source": [
        "La distribuzione delle due classi da predirre è 32% si, 68% no"
      ]
    },
    {
      "cell_type": "markdown",
      "metadata": {
        "id": "QBrcT1LTn4iD"
      },
      "source": [
        "Dividiamo i dati in due parti, utilizzando la funzione di sklearn `train_test_split`"
      ]
    },
    {
      "cell_type": "code",
      "metadata": {
        "id": "uZ5_umq_n4iD"
      },
      "source": [
        "X_train, X_test, y_train, y_test = \\\n",
        "    train_test_split(X, y, test_size=1/3, random_state=1337)"
      ],
      "execution_count": 26,
      "outputs": []
    },
    {
      "cell_type": "markdown",
      "metadata": {
        "id": "BFm1oAEqn4iD"
      },
      "source": [
        "Facciamo un test preliminare con l'algoritmo perceptron, e visualizziamone la score.  \n",
        "Le variabili categoriche vengono preprocessate con un OneHotEncoder\n",
        "\n",
        "Per sopperire allo sbilanciamento delle classi, il modello Perceptron ci offre l'argomento `class_weight`, che se impostato su `\"balanced\"` permette di allenare il modello pesando in modo maggiore la classe meno popolata"
      ]
    },
    {
      "cell_type": "code",
      "metadata": {
        "colab": {
          "base_uri": "https://localhost:8080/"
        },
        "id": "WgoRGH-Fn4iD",
        "outputId": "7f8bb39d-3b85-4204-e8f1-a3184070a287"
      },
      "source": [
        "model = Pipeline([\n",
        "    (\"preproc\", ColumnTransformer([\n",
        "        (\"categorical\", OneHotEncoder(), categorical_vars)\n",
        "    ], remainder=\"passthrough\")),\n",
        "    (\"perc\",  Perceptron(n_jobs=-1, random_state=1337, class_weight=\"balanced\"))\n",
        "])\n",
        "model.fit(X_train, y_train)\n",
        "model.score(X_test, y_test)"
      ],
      "execution_count": 27,
      "outputs": [
        {
          "output_type": "execute_result",
          "data": {
            "text/plain": [
              "0.5339302544769086"
            ]
          },
          "metadata": {
            "tags": []
          },
          "execution_count": 27
        }
      ]
    },
    {
      "cell_type": "markdown",
      "metadata": {
        "id": "-dZn5s8an4iE"
      },
      "source": [
        "Verifichiamo quali sono le variabili che più influiscono nella decisione"
      ]
    },
    {
      "cell_type": "code",
      "metadata": {
        "colab": {
          "base_uri": "https://localhost:8080/"
        },
        "id": "E2EFze8xpx00",
        "outputId": "a6c78163-4fe0-417f-a459-9a4430e6c604"
      },
      "source": [
        "enc = OneHotEncoder()\n",
        "enc.fit_transform(X[categorical_vars])\n",
        "index = enc.get_feature_names().tolist()\n",
        "numeric_vars = [el for el in X.columns if el not in categorical_vars]\n",
        "index.extend(numeric_vars)\n",
        "index"
      ],
      "execution_count": 28,
      "outputs": [
        {
          "output_type": "execute_result",
          "data": {
            "text/plain": [
              "['x0_advanced',\n",
              " 'x0_business',\n",
              " 'x0_skilled',\n",
              " 'x0_student',\n",
              " 'x0_unskilled',\n",
              " 'x0_white collar',\n",
              " 'x1_advanced',\n",
              " 'x1_business',\n",
              " 'x1_skilled',\n",
              " 'x1_student',\n",
              " 'x1_unskilled',\n",
              " 'x1_white collar',\n",
              " 'x2_advanced',\n",
              " 'x2_college',\n",
              " 'x2_college grad',\n",
              " 'x2_grad school',\n",
              " 'x2_grade school',\n",
              " 'x2_high school',\n",
              " 'rate_marriage',\n",
              " 'age',\n",
              " 'yrs_married',\n",
              " 'children',\n",
              " 'religious']"
            ]
          },
          "metadata": {
            "tags": []
          },
          "execution_count": 28
        }
      ]
    },
    {
      "cell_type": "code",
      "metadata": {
        "colab": {
          "base_uri": "https://localhost:8080/"
        },
        "id": "6znj9pRsn4iE",
        "outputId": "fded1bf3-392a-44cf-c2d9-9848796ab7a7"
      },
      "source": [
        "pd.Series(model.named_steps[\"perc\"].coef_[0], index=index).sort_values()"
      ],
      "execution_count": 29,
      "outputs": [
        {
          "output_type": "execute_result",
          "data": {
            "text/plain": [
              "rate_marriage     -243.662157\n",
              "religious         -138.008299\n",
              "x0_student           4.331120\n",
              "x2_advanced          4.419412\n",
              "children             9.562550\n",
              "age                 13.136500\n",
              "x0_unskilled        18.632271\n",
              "x1_student          31.977193\n",
              "yrs_married         38.560828\n",
              "x2_grade school     58.997732\n",
              "x0_skilled          66.872836\n",
              "x1_business         73.054876\n",
              "x2_grad school      77.809797\n",
              "x1_unskilled        84.269555\n",
              "x2_college grad     86.869083\n",
              "x1_advanced         99.231022\n",
              "x1_skilled         112.000175\n",
              "x0_advanced        128.686277\n",
              "x0_white collar    133.901922\n",
              "x2_high school     158.240526\n",
              "x1_white collar    174.718474\n",
              "x2_college         188.914745\n",
              "x0_business        222.826869\n",
              "dtype: float64"
            ]
          },
          "metadata": {
            "tags": []
          },
          "execution_count": 29
        }
      ]
    },
    {
      "cell_type": "markdown",
      "metadata": {
        "id": "HzxIJb0tn4iE"
      },
      "source": [
        "Sapendo che x0->occupation, x1->occupation_husb, x2->education:\n",
        "\n",
        "Possiamo osservare che le feature più incisive in negativo (ossia verso l'assenza di relazioni extramatrimoniali) sono la valutazione del matrimonio da parte della donna e quanto questa si consideri religiosa. La feature più incisiva in positivo, ossia verso la presenza di relazioni extramatrimoniali, sembra essere legata al lavoro della donna, in particolare se la donna ha posizione manageriale."
      ]
    },
    {
      "cell_type": "markdown",
      "metadata": {
        "id": "gqLX5Ddnn4iF"
      },
      "source": [
        "Si può procedere alla standardizzazione delle feature non categoriche, per provare a migliorare la score"
      ]
    },
    {
      "cell_type": "code",
      "metadata": {
        "colab": {
          "base_uri": "https://localhost:8080/"
        },
        "id": "Xkvq2gc8n4iF",
        "outputId": "6259fbff-fdee-407f-d462-8567dd45b24c"
      },
      "source": [
        "model = Pipeline([\n",
        "    (\"preproc\", ColumnTransformer([\n",
        "        (\"categorical\", OneHotEncoder(), categorical_vars)\n",
        "    ], remainder=StandardScaler())),\n",
        "    (\"perc\",  Perceptron(n_jobs=-1, random_state=1337, class_weight=\"balanced\"))\n",
        "])\n",
        "model.fit(X_train, y_train)\n",
        "model.score(X_test, y_test)"
      ],
      "execution_count": 30,
      "outputs": [
        {
          "output_type": "execute_result",
          "data": {
            "text/plain": [
              "0.6126295947219604"
            ]
          },
          "metadata": {
            "tags": []
          },
          "execution_count": 30
        }
      ]
    },
    {
      "cell_type": "code",
      "metadata": {
        "colab": {
          "base_uri": "https://localhost:8080/"
        },
        "id": "c5rrA08gn4iG",
        "outputId": "712143fa-4fe0-4c29-9a42-72ba5e0ea292"
      },
      "source": [
        "pd.Series(model.named_steps[\"perc\"].coef_[0], index=index).sort_values()"
      ],
      "execution_count": 31,
      "outputs": [
        {
          "output_type": "execute_result",
          "data": {
            "text/plain": [
              "x2_grad school    -3.029216\n",
              "rate_marriage     -2.507850\n",
              "x1_advanced       -1.921553\n",
              "x0_skilled        -1.805971\n",
              "x1_student        -1.756207\n",
              "x2_advanced       -1.149400\n",
              "x0_business       -0.875963\n",
              "religious         -0.861962\n",
              "x1_business       -0.460723\n",
              "x0_unskilled      -0.392765\n",
              "x0_student        -0.128425\n",
              "x2_grade school    0.117187\n",
              "x1_unskilled       0.463934\n",
              "x2_college grad    0.790882\n",
              "x0_advanced        1.305650\n",
              "yrs_married        1.416504\n",
              "age                1.610926\n",
              "x2_college         1.691994\n",
              "x1_skilled         1.698951\n",
              "x2_high school     1.732127\n",
              "x0_white collar    2.051048\n",
              "x1_white collar    2.129173\n",
              "children           4.945196\n",
              "dtype: float64"
            ]
          },
          "metadata": {
            "tags": []
          },
          "execution_count": 31
        }
      ]
    },
    {
      "cell_type": "markdown",
      "metadata": {
        "id": "3pVhdZIrn4iG"
      },
      "source": [
        "Lo score è lievemente migliorato, e i pesi si sono allineati.\n",
        "\n",
        "Per individuare quali variabili non sono necessarie per la predizione della classe, si può utilizzare una penalizzazione l1"
      ]
    },
    {
      "cell_type": "code",
      "metadata": {
        "colab": {
          "base_uri": "https://localhost:8080/"
        },
        "id": "ZIL6vxo4uCk1",
        "outputId": "fecea504-6e23-471c-f34a-c25f7dce5d7e"
      },
      "source": [
        "model = Pipeline([\n",
        "    (\"preproc\", ColumnTransformer([\n",
        "        (\"categorical\", OneHotEncoder(), categorical_vars)\n",
        "    ], remainder=StandardScaler())),\n",
        "    (\"perc\",  Perceptron(n_jobs=-1, penalty=\"l1\", random_state=1337, class_weight=\"balanced\"))\n",
        "])\n",
        "model.fit(X_train, y_train)\n",
        "model.score(X_test, y_test)"
      ],
      "execution_count": 32,
      "outputs": [
        {
          "output_type": "execute_result",
          "data": {
            "text/plain": [
              "0.4472196041470311"
            ]
          },
          "metadata": {
            "tags": []
          },
          "execution_count": 32
        }
      ]
    },
    {
      "cell_type": "code",
      "metadata": {
        "colab": {
          "base_uri": "https://localhost:8080/"
        },
        "id": "fDkKwaQKuNsH",
        "outputId": "c83ee5c2-d3a9-40d7-b6ea-a782a48bdfdc"
      },
      "source": [
        "pd.Series(model.named_steps[\"perc\"].coef_[0], index=index).sort_values()"
      ],
      "execution_count": 33,
      "outputs": [
        {
          "output_type": "execute_result",
          "data": {
            "text/plain": [
              "rate_marriage     -2.087443\n",
              "age               -1.877264\n",
              "religious         -1.794002\n",
              "x1_student        -1.111421\n",
              "x0_student        -0.958917\n",
              "children          -0.537475\n",
              "x2_high school     0.000000\n",
              "x2_grade school    0.000000\n",
              "x2_grad school     0.000000\n",
              "x2_college grad    0.000000\n",
              "x2_college         0.000000\n",
              "x2_advanced        0.000000\n",
              "x0_advanced        0.000000\n",
              "x1_skilled         0.000000\n",
              "x1_business        0.000000\n",
              "x1_advanced        0.000000\n",
              "x0_white collar    0.000000\n",
              "x0_unskilled       0.000000\n",
              "x0_skilled         0.000000\n",
              "x1_unskilled       0.000000\n",
              "x0_business        1.129615\n",
              "x1_white collar    2.543891\n",
              "yrs_married        2.680638\n",
              "dtype: float64"
            ]
          },
          "metadata": {
            "tags": []
          },
          "execution_count": 33
        }
      ]
    },
    {
      "cell_type": "markdown",
      "metadata": {
        "id": "lJb4UE7SubXl"
      },
      "source": [
        "La penalizzazione l1 va ad annullare il peso di molte feature, andando più che a dimezzare il numero di feature prese in considerazione"
      ]
    },
    {
      "cell_type": "markdown",
      "metadata": {
        "id": "7aumAK2KwyqZ"
      },
      "source": [
        "##Parte 3: modellazione"
      ]
    },
    {
      "cell_type": "code",
      "metadata": {
        "id": "e2DEWEaoJ9PG"
      },
      "source": [
        "skf = StratifiedKFold(3, shuffle=True, random_state=1337)"
      ],
      "execution_count": 34,
      "outputs": []
    },
    {
      "cell_type": "markdown",
      "metadata": {
        "id": "TTN8zhTfhGjP"
      },
      "source": [
        "Come primo valutiamo un modello basato su Perceptron, simile a quello utilizzato nella scorsa parte. Anche qui utilizziamo l'argomento `class_weight`, che verrà impostato su `\"balanced\"` anche nei prossimi modello ove possibile"
      ]
    },
    {
      "cell_type": "code",
      "metadata": {
        "colab": {
          "base_uri": "https://localhost:8080/"
        },
        "id": "6DHVOu5BxHUL",
        "outputId": "6ac58631-ab74-42b5-fe28-23ba097e1223"
      },
      "source": [
        "perc_pipeline = Pipeline([\n",
        "    (\"preproc\", ColumnTransformer([\n",
        "        (\"categorical\", OneHotEncoder(), categorical_vars),\n",
        "    ])),\n",
        "    (\"perc\", Perceptron(n_jobs=-1, random_state=1337, class_weight=\"balanced\"))\n",
        "])\n",
        "\n",
        "grid = {\n",
        "    \"preproc__remainder\": [\"passthrough\", StandardScaler()],\n",
        "    \"perc__penalty\": [None,\"l2\", \"l1\", \"elasticnet\"],\n",
        "    \"perc__alpha\": np.logspace(-4, 3, 8),\n",
        "}\n",
        "perc_model = GridSearchCV(perc_pipeline, grid, cv=skf)\n",
        "perc_model.fit(X_train, y_train)\n",
        "\n",
        "perc_model.score(X_test,y_test), perc_model.best_params_"
      ],
      "execution_count": 35,
      "outputs": [
        {
          "output_type": "execute_result",
          "data": {
            "text/plain": [
              "(0.5188501413760603,\n",
              " {'perc__alpha': 0.0001,\n",
              "  'perc__penalty': 'l2',\n",
              "  'preproc__remainder': 'passthrough'})"
            ]
          },
          "metadata": {
            "tags": []
          },
          "execution_count": 35
        }
      ]
    },
    {
      "cell_type": "markdown",
      "metadata": {
        "id": "vlCyvjikhhlg"
      },
      "source": [
        "La regressione logistica è un modello basato sulla regressione lineare"
      ]
    },
    {
      "cell_type": "code",
      "metadata": {
        "colab": {
          "base_uri": "https://localhost:8080/"
        },
        "id": "cFxD92fRyqmA",
        "outputId": "7f96bb88-21b4-49a6-d33c-9016fc7b18ee"
      },
      "source": [
        "logreg_pipeline = Pipeline([\n",
        "    (\"preproc\", ColumnTransformer([\n",
        "        (\"categorical\", OneHotEncoder(), categorical_vars),\n",
        "    ])),\n",
        "    (\"logreg\",  LogisticRegression(solver=\"saga\", random_state=1337, class_weight=\"balanced\"))\n",
        "])\n",
        "\n",
        "grid = [\n",
        "        {\n",
        "            \"preproc__remainder\": [\"passthrough\", StandardScaler()],\n",
        "            \"logreg__C\": np.logspace(-4, 2, 7),\n",
        "            \"logreg__penalty\": [\"l2\", \"l1\"],\n",
        "        },\n",
        "        {\n",
        "            \"preproc__remainder\": [\"passthrough\", StandardScaler()],\n",
        "            \"logreg__C\": np.logspace(-4, 2, 7),\n",
        "            \"logreg__penalty\": [\"elasticnet\"],\n",
        "            \"logreg__l1_ratio\": [0.2, 0.5]\n",
        "        }\n",
        "]\n",
        "\n",
        "logreg_model = GridSearchCV(logreg_pipeline, grid, cv=skf)\n",
        "logreg_model.fit(X_train, y_train)\n",
        "logreg_model.score(X_test,y_test), logreg_model.best_params_"
      ],
      "execution_count": 36,
      "outputs": [
        {
          "output_type": "execute_result",
          "data": {
            "text/plain": [
              "(0.6950989632422243,\n",
              " {'logreg__C': 0.001,\n",
              "  'logreg__l1_ratio': 0.2,\n",
              "  'logreg__penalty': 'elasticnet',\n",
              "  'preproc__remainder': StandardScaler(copy=True, with_mean=True, with_std=True)})"
            ]
          },
          "metadata": {
            "tags": []
          },
          "execution_count": 36
        }
      ]
    },
    {
      "cell_type": "markdown",
      "metadata": {
        "id": "Q0OXiVzziQxy"
      },
      "source": [
        "Il modello a Support Vector Machines ci permette di utilizzare una funzione kernel per effettuare una classificazione non lineare"
      ]
    },
    {
      "cell_type": "code",
      "metadata": {
        "colab": {
          "base_uri": "https://localhost:8080/"
        },
        "id": "jOQrbbset2vl",
        "outputId": "9ddc331c-fce1-4139-b757-189df5189146"
      },
      "source": [
        "svc_pipeline = Pipeline([\n",
        "    (\"preproc\", ColumnTransformer([\n",
        "        (\"categorical\", OneHotEncoder(), categorical_vars),\n",
        "    ])),\n",
        "    (\"svc\",SVC(random_state=1337, class_weight=\"balanced\"))\n",
        "])\n",
        "\n",
        "grid = {\n",
        "  \"preproc__remainder\": [\"passthrough\", StandardScaler()],\n",
        "  \"svc__kernel\": [\"poly\",\"linear\"],\n",
        "  \"svc__degree\": [1,2,3],\n",
        "}\n",
        "\n",
        "svc_model = GridSearchCV(svc_pipeline, grid, cv=skf)\n",
        "svc_model.fit(X_train, y_train)\n",
        "svc_model.score(X_test,y_test), svc_model.best_params_"
      ],
      "execution_count": 37,
      "outputs": [
        {
          "output_type": "execute_result",
          "data": {
            "text/plain": [
              "(0.6922714420358153,\n",
              " {'preproc__remainder': 'passthrough',\n",
              "  'svc__degree': 3,\n",
              "  'svc__kernel': 'poly'})"
            ]
          },
          "metadata": {
            "tags": []
          },
          "execution_count": 37
        }
      ]
    },
    {
      "cell_type": "markdown",
      "metadata": {
        "id": "cRqPENW7jm82"
      },
      "source": [
        "Un modello basato su alberi decisionali prevede la classe basandosi su decisioni sulle singole variabili"
      ]
    },
    {
      "cell_type": "code",
      "metadata": {
        "colab": {
          "base_uri": "https://localhost:8080/"
        },
        "id": "xqqqlc4Qwg_q",
        "outputId": "0cff9522-4715-4314-abe7-a44e1ca5235f"
      },
      "source": [
        "tree_pipeline = Pipeline([\n",
        "    (\"preproc\", ColumnTransformer([\n",
        "        (\"categorical\", OneHotEncoder(), categorical_vars)\n",
        "    ])),\n",
        "    (\"tree\", DecisionTreeClassifier(random_state=1337, class_weight=\"balanced\"))\n",
        "])\n",
        "\n",
        "grid = {\n",
        "          \"preproc__remainder\": [\"passthrough\", StandardScaler()],\n",
        "          \"tree__min_samples_split\": [5, 2, 0.02, 0.05, 0.1],\n",
        "          \"tree__max_depth\": [i for i in range(2, 7)],\n",
        "        }\n",
        "\n",
        "tree_model = GridSearchCV(tree_pipeline, grid, cv=skf)\n",
        "tree_model.fit(X_train, y_train)\n",
        "tree_model.score(X_test,y_test), tree_model.best_params_\n"
      ],
      "execution_count": 38,
      "outputs": [
        {
          "output_type": "execute_result",
          "data": {
            "text/plain": [
              "(0.6621112158341188,\n",
              " {'preproc__remainder': 'passthrough',\n",
              "  'tree__max_depth': 4,\n",
              "  'tree__min_samples_split': 0.1})"
            ]
          },
          "metadata": {
            "tags": []
          },
          "execution_count": 38
        }
      ]
    },
    {
      "cell_type": "code",
      "metadata": {
        "colab": {
          "base_uri": "https://localhost:8080/",
          "height": 357
        },
        "id": "E0vQf0PPBjyg",
        "outputId": "32bcf437-8f04-444d-83ad-a167e8f36ba8"
      },
      "source": [
        "plt.figure(figsize=(15, 6))\n",
        "plot_tree(tree_model.best_estimator_.named_steps[\"tree\"], feature_names=index);"
      ],
      "execution_count": 39,
      "outputs": [
        {
          "output_type": "display_data",
          "data": {
            "image/png": "[encoded data removed]",
            "text/plain": [
              "<Figure size 1080x432 with 1 Axes>"
            ]
          },
          "metadata": {
            "tags": [],
            "needs_background": "light"
          }
        }
      ]
    },
    {
      "cell_type": "markdown",
      "metadata": {
        "id": "ciKmoQcXn6Ae"
      },
      "source": [
        "Un Multi-layer Perceptron è una versione a più strati del Perceptron, in cui si può introdurre non-linearità attraverso la funzione di attivazione. In questo caso utilizziamo la funzione ReLU\n",
        "\n",
        "Siccome questo modello non supporta l'attributo `class_weight`, ne testiamo due varianti: una utilizzando lo stesso sample che abbiamo fornito agli altri modelli, e una in cui abbiamo applicato undersampling al dataset, andando a rimuovere alcune istanze appartenenti alla classe più popolata"
      ]
    },
    {
      "cell_type": "code",
      "metadata": {
        "id": "Gcm6tz3nn4iI",
        "colab": {
          "base_uri": "https://localhost:8080/"
        },
        "outputId": "0683cc45-70df-4898-d1bc-5181fca83d5f"
      },
      "source": [
        "mlpc_pipeline = Pipeline([\n",
        "    (\"preproc\", ColumnTransformer([\n",
        "        (\"categorical\", OneHotEncoder(), categorical_vars)\n",
        "    ], remainder=StandardScaler())),\n",
        "    (\"mlp\", MLPClassifier(activation=\"relu\", max_iter=1000, random_state=1337))\n",
        "])\n",
        "\n",
        "grid = {\n",
        "    \"mlp__hidden_layer_sizes\": [8, 16, (16, 8)],\n",
        "    \"mlp__batch_size\": [100, 200, 300],\n",
        "}\n",
        "\n",
        "mlpc_model = GridSearchCV(mlpc_pipeline, grid, cv=skf)\n",
        "mlpc_model.fit(X_train, y_train)\n",
        "mlpc_model.score(X_test,y_test), mlpc_model.best_params_"
      ],
      "execution_count": 40,
      "outputs": [
        {
          "output_type": "execute_result",
          "data": {
            "text/plain": [
              "(0.7191328934967012, {'mlp__batch_size': 300, 'mlp__hidden_layer_sizes': 8})"
            ]
          },
          "metadata": {
            "tags": []
          },
          "execution_count": 40
        }
      ]
    },
    {
      "cell_type": "code",
      "metadata": {
        "id": "6F2j2vpsZv5g",
        "colab": {
          "base_uri": "https://localhost:8080/"
        },
        "outputId": "de4e0176-c46b-410b-e9e2-46dfa888dd86"
      },
      "source": [
        "rus = RandomUnderSampler(random_state=1337)\n",
        "X_train_under_np, y_train_under_np = rus.fit_sample(X_train, y_train)\n",
        "X_train_under = pd.DataFrame(X_train_under_np, columns=X_train.columns)\n",
        "y_train_under = pd.Series(y_train_under_np)\n",
        "\n",
        "y_train_under.value_counts(), len(X_train_under)"
      ],
      "execution_count": 41,
      "outputs": [
        {
          "output_type": "execute_result",
          "data": {
            "text/plain": [
              "(True     1389\n",
              " False    1389\n",
              " dtype: int64, 2778)"
            ]
          },
          "metadata": {
            "tags": []
          },
          "execution_count": 41
        }
      ]
    },
    {
      "cell_type": "code",
      "metadata": {
        "id": "mDHymgm8QnJU",
        "colab": {
          "base_uri": "https://localhost:8080/"
        },
        "outputId": "c33e76c7-7a9b-4acb-c73b-71b8de191846"
      },
      "source": [
        "mlpc_model_under = GridSearchCV(mlpc_pipeline, grid, cv=skf)\n",
        "mlpc_model_under.fit(X_train_under, y_train_under)\n",
        "mlpc_model_under.score(X_test,y_test), mlpc_model.best_params_"
      ],
      "execution_count": 42,
      "outputs": [
        {
          "output_type": "execute_result",
          "data": {
            "text/plain": [
              "(0.672478793590952, {'mlp__batch_size': 300, 'mlp__hidden_layer_sizes': 8})"
            ]
          },
          "metadata": {
            "tags": []
          },
          "execution_count": 42
        }
      ]
    },
    {
      "cell_type": "markdown",
      "metadata": {
        "id": "hn7rLsgx1TR4"
      },
      "source": [
        "## Parte 4 - Valutazione dei modelli di classificazione"
      ]
    },
    {
      "cell_type": "markdown",
      "metadata": {
        "id": "WOvulXLo6P4H"
      },
      "source": [
        "Si importano e librerie necessarie e si definisce una funzione che stampi la confusion matrix del modello, insieme alle metriche di valutazione più importanti."
      ]
    },
    {
      "cell_type": "code",
      "metadata": {
        "id": "9016Nd4I1Vwy"
      },
      "source": [
        "from sklearn.metrics import confusion_matrix, precision_score, recall_score, f1_score, accuracy_score"
      ],
      "execution_count": 43,
      "outputs": []
    },
    {
      "cell_type": "code",
      "metadata": {
        "id": "KkkiMAMw1nZ6"
      },
      "source": [
        "def display_model_metrics(model, X, y):\n",
        "    y_pred = model.predict(X)\n",
        "    \n",
        "    conf_matrix = pd.DataFrame(confusion_matrix(y, y_pred))\n",
        "    precision = precision_score(y, y_pred, zero_division=0, pos_label=1)\n",
        "    recall = recall_score(y, y_pred)\n",
        "    f1 =  f1_score(y, y_pred)\n",
        "    accuracy = accuracy_score(y, y_pred)\n",
        "    \n",
        "    print(f\"\"\"{conf_matrix}\\n\\n \\\n",
        "Precision:  {precision}\\n \\\n",
        "   Recall:  {recall}\\n \\\n",
        " F1 Score:  {f1}\\n \\\n",
        " Accuracy:  {accuracy}\\n\"\"\")"
      ],
      "execution_count": 44,
      "outputs": []
    },
    {
      "cell_type": "code",
      "metadata": {
        "id": "dqjWapxV4E1Y",
        "colab": {
          "base_uri": "https://localhost:8080/"
        },
        "outputId": "f917a9d2-1228-43f0-d62c-f47155365009"
      },
      "source": [
        "for model, name in [\n",
        "              (perc_model,\"Perceptron\"),\n",
        "              (logreg_model,\"Logistic Regression\"),\n",
        "              (svc_model,\"Support Vector\"),\n",
        "              (tree_model,\"Tree\"),\n",
        "              (mlpc_model,\"MLP Full\"),\n",
        "              (mlpc_model_under,\"MLP Under\")\n",
        "              ]:\n",
        "  print(name+\"\\n\")\n",
        "  display_model_metrics(model, X_test, y_test)"
      ],
      "execution_count": 45,
      "outputs": [
        {
          "output_type": "stream",
          "text": [
            "Perceptron\n",
            "\n",
            "     0    1\n",
            "0  500  958\n",
            "1   63  601\n",
            "\n",
            " Precision:  0.3855035279025016\n",
            "    Recall:  0.9051204819277109\n",
            "  F1 Score:  0.540710751237067\n",
            "  Accuracy:  0.5188501413760603\n",
            "\n",
            "Logistic Regression\n",
            "\n",
            "      0    1\n",
            "0  1064  394\n",
            "1   253  411\n",
            "\n",
            " Precision:  0.5105590062111801\n",
            "    Recall:  0.6189759036144579\n",
            "  F1 Score:  0.5595643294758339\n",
            "  Accuracy:  0.6950989632422243\n",
            "\n",
            "Support Vector\n",
            "\n",
            "      0    1\n",
            "0  1082  376\n",
            "1   277  387\n",
            "\n",
            " Precision:  0.5072083879423329\n",
            "    Recall:  0.5828313253012049\n",
            "  F1 Score:  0.54239663629993\n",
            "  Accuracy:  0.6922714420358153\n",
            "\n",
            "Tree\n",
            "\n",
            "     0    1\n",
            "0  918  540\n",
            "1  177  487\n",
            "\n",
            " Precision:  0.4741966893865628\n",
            "    Recall:  0.733433734939759\n",
            "  F1 Score:  0.5759905381431105\n",
            "  Accuracy:  0.6621112158341188\n",
            "\n",
            "MLP Full\n",
            "\n",
            "      0    1\n",
            "0  1244  214\n",
            "1   382  282\n",
            "\n",
            " Precision:  0.5685483870967742\n",
            "    Recall:  0.4246987951807229\n",
            "  F1 Score:  0.48620689655172417\n",
            "  Accuracy:  0.7191328934967012\n",
            "\n",
            "MLP Under\n",
            "\n",
            "     0    1\n",
            "0  971  487\n",
            "1  208  456\n",
            "\n",
            " Precision:  0.4835630965005302\n",
            "    Recall:  0.6867469879518072\n",
            "  F1 Score:  0.567517112632234\n",
            "  Accuracy:  0.672478793590952\n",
            "\n"
          ],
          "name": "stdout"
        }
      ]
    },
    {
      "cell_type": "markdown",
      "metadata": {
        "id": "lXxfhmlQodt_"
      },
      "source": [
        "Si riescono ad individuare tre gruppi di modelli:\n",
        "1. il gruppo costituito dal Perceptron\n",
        "2. il gruppo costituito dal modello basato su MLP senza undersampling\n",
        "3. il gruppo costituito dai modelli su cui è stato applicato il bilanciamento delle classi o l'undersampling, cioè tutti gli altri\n",
        "\n",
        "Il gruppo peggiore è senza dubbio quello del Perceptron, che nonostante abbia un punteggio F1 allineato con quelli del secondo gruppo, ha un'accuratezza di gran lunga inferiore.\n",
        "\n",
        "Il modello ad MPL senza undersampling presenta il singolo pungeggio d'accuratezza migliore, ma soffre notevolmente nel punteggio F1.\n",
        "\n",
        "Fra i proponenti del terzo gruppo non c'è molta differenza, ma si delinea come vincitore il modello a MLP con undersampling, che presenta il punteggio F1 più alto.\n",
        "\n"
      ]
    },
    {
      "cell_type": "markdown",
      "metadata": {
        "id": "7CPEkwF5DJvM"
      },
      "source": [
        "###Confronto fra i modelli con intervallo di confidenza\n",
        "Confrontiamo fra di loro i modelli, calcolando con confidenza al 95% se le differenze fra i punteggi F1 sono statisticamente significative."
      ]
    },
    {
      "cell_type": "code",
      "metadata": {
        "id": "pRkCfBZ7DLQe"
      },
      "source": [
        "def calculate_model_difference(model1, model2, confidence):\n",
        "  error1 = f1_score(y_test, model1.predict(X_test))\n",
        "  error2 = f1_score(y_test, model2.predict(X_test))\n",
        "  z_ha = stats.norm.ppf(confidence)\n",
        "  variance = (((1 - error1) * error1) / len(y_test)) + (((1 - error2) * error2) / len(y_test))\n",
        "  center = abs(error1 - error2)\n",
        "  delta = z_ha * (variance ** 0.5)\n",
        "  print(f\"Intervallo: [{center - delta} {center + delta}]\\nCentro: {center}\\nDelta: {delta}\\n\")"
      ],
      "execution_count": 46,
      "outputs": []
    },
    {
      "cell_type": "code",
      "metadata": {
        "id": "-36Gr7m_DopY",
        "colab": {
          "base_uri": "https://localhost:8080/"
        },
        "outputId": "f99c0a71-6bc5-4da8-b3b7-288cf4e51349"
      },
      "source": [
        "print(\"Intervallo fra logreg e tree\")\n",
        "calculate_model_difference(logreg_model, tree_model, .95)\n",
        "print(\"Intervallo fra svc e mlp con undersampling\")\n",
        "calculate_model_difference(svc_model, mlpc_model_under, .95)\n",
        "print(\"Intervallo fra svc e tree\")\n",
        "calculate_model_difference(svc_model, tree_model, .95)\n",
        "print(\"Intervallo fra svg e logreg\")\n",
        "calculate_model_difference(svc_model, logreg_model, .95)\n",
        "print(\"Intervallo fra tree e mlp con undersampling\")\n",
        "calculate_model_difference(tree_model, mlpc_model_under, .95)\n",
        "print(\"Intervallo fra logreg e mlp con undersampling\")\n",
        "calculate_model_difference(logreg_model, mlpc_model_under, .95)\n",
        "\n",
        "print(\"Intervallo fra mlp con e senza undersampling\")\n",
        "calculate_model_difference(mlpc_model, mlpc_model_under, .95)"
      ],
      "execution_count": 47,
      "outputs": [
        {
          "output_type": "stream",
          "text": [
            "Intervallo fra logreg e tree\n",
            "Intervallo: [-0.008586035045455982 0.04143845238000922]\n",
            "Centro: 0.01642620866727662\n",
            "Delta: 0.025012243712732602\n",
            "\n",
            "Intervallo fra svc e mlp con undersampling\n",
            "Intervallo: [3.273964183582098e-05 0.05020821302277233]\n",
            "Centro: 0.025120476332304076\n",
            "Delta: 0.025087736690468255\n",
            "\n",
            "Intervallo fra svc e tree\n",
            "Intervallo: [0.008537083724547059 0.05865071996181406]\n",
            "Centro: 0.03359390184318056\n",
            "Delta: 0.025056818118633504\n",
            "\n",
            "Intervallo fra svg e logreg\n",
            "Intervallo: [-0.007945711797372725 0.04228109814918061]\n",
            "Centro: 0.017167693175903942\n",
            "Delta: 0.025113404973276666\n",
            "\n",
            "Intervallo fra tree e mlp con undersampling\n",
            "Intervallo: [-0.01651304599759388 0.03345989701934685]\n",
            "Centro: 0.008473425510876487\n",
            "Delta: 0.024986471508470366\n",
            "\n",
            "Intervallo fra logreg e mlp con undersampling\n",
            "Intervallo: [-0.017090434160173196 0.032996000472973464]\n",
            "Centro: 0.007952783156400134\n",
            "Delta: 0.02504321731657333\n",
            "\n",
            "Intervallo fra mlp con e senza undersampling\n",
            "Intervallo: [0.05618167176826373 0.106438760392756]\n",
            "Centro: 0.08131021608050987\n",
            "Delta: 0.025128544312246138\n",
            "\n"
          ],
          "name": "stdout"
        }
      ]
    },
    {
      "cell_type": "markdown",
      "metadata": {
        "id": "wmtvd_C0GeSl"
      },
      "source": [
        "L'intervallo di confidenza ci mostra che la differenza di punteggio F1 fra i modelli del gruppo 3 non è statisticamente significativa. È invece significativa la differenza fra i due modelli MLP\n"
      ]
    },
    {
      "cell_type": "markdown",
      "metadata": {
        "id": "h09FDkaRZtjc"
      },
      "source": [
        "##Parte 5: Analisi dei modelli migliori"
      ]
    },
    {
      "cell_type": "markdown",
      "metadata": {
        "id": "g_SEmJQbZyv7"
      },
      "source": [
        "###Confronto con un modello casuale\n",
        "Attraverso il `DummyClassifier` di sklearn, possiamo simulare un modello con la stessa distribuzione di predizioni rispetto ad un modello reale.\n",
        "\n",
        "Confrontiamolo con i modelli addestrati"
      ]
    },
    {
      "cell_type": "code",
      "metadata": {
        "id": "tACHzWyBaEnf",
        "colab": {
          "base_uri": "https://localhost:8080/"
        },
        "outputId": "7fe83931-019d-40f9-af6e-a9b45edede51"
      },
      "source": [
        "from sklearn.dummy import DummyClassifier\n",
        "\n",
        "dummy_model = DummyClassifier()\n",
        "dummy_model.fit(X_train,y_train)\n",
        "\n",
        "print(\"Dummy model metrics:\")\n",
        "display_model_metrics(dummy_model, X_test, y_test)\n",
        "\n",
        "calculate_model_difference(dummy_model, logreg_model, .99)\n",
        "calculate_model_difference(dummy_model, tree_model, .99)\n",
        "calculate_model_difference(dummy_model, svc_model, .99)\n",
        "calculate_model_difference(dummy_model, mlpc_model_under, .99)\n",
        "calculate_model_difference(dummy_model, mlpc_model, .99)"
      ],
      "execution_count": 48,
      "outputs": [
        {
          "output_type": "stream",
          "text": [
            "Dummy model metrics:\n",
            "     0    1\n",
            "0  979  479\n",
            "1  463  201\n",
            "\n",
            " Precision:  0.29558823529411765\n",
            "    Recall:  0.30271084337349397\n",
            "  F1 Score:  0.29910714285714285\n",
            "  Accuracy:  0.5560791705937794\n",
            "\n",
            "Intervallo: [0.21481816199559037 0.28336098678275423]\n",
            "Centro: 0.24908957438917229\n",
            "Delta: 0.03427141239358192\n",
            "\n",
            "Intervallo: [0.23064827464365797 0.29904409558422357]\n",
            "Centro: 0.26484618511394076\n",
            "Delta: 0.03419791047028279\n",
            "\n",
            "Intervallo: [0.17093735139254615 0.24029609845989866]\n",
            "Centro: 0.2056167249262224\n",
            "Delta: 0.03467937353367626\n",
            "\n",
            "Intervallo: [0.23686404706817346 0.3049249505898336]\n",
            "Centro: 0.2708944988290035\n",
            "Delta: 0.03403045176083006\n",
            "\n",
            "Intervallo: [0.11619224672964301 0.1856333110796876]\n",
            "Centro: 0.1509127789046653\n",
            "Delta: 0.034720532175022294\n",
            "\n"
          ],
          "name": "stdout"
        }
      ]
    },
    {
      "cell_type": "markdown",
      "metadata": {
        "id": "lHUl32GWeIYG"
      },
      "source": [
        "Tutti i modelli individuati hanno una differenza di f1-score rispetto al modello casuale statisticamente rilevante con confidenza al 99%"
      ]
    },
    {
      "cell_type": "markdown",
      "metadata": {
        "id": "tdCqdWa2-OVg"
      },
      "source": [
        "## Parte 6: Conclusione\n",
        "\n",
        "Avendo ottenuto una schiera di modelli fra di loro comparabili, si trova difficile dare una sentenza su quale sia il migliore.\n",
        "Ipotizzando diverse applicazioni di questi modelli, si vanno a delineare scelte diverse in base a quale siano le necessità di predizione.  \n",
        "Se la volontà è quella di abbassare al minimo la frequenza di falsi positivi, il modello MLP senza undersampling potrebbe essere la scelta migliore, grazie alla più alta `precision`. Se la volontà è invece quella di classificare il numero maggiore di casi positivi come tali, i modelli del terzo gruppo potrebbero essere la scelta migliore date le più alte `recall`."
      ]
    }
  ]
}